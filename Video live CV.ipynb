{
 "cells": [
  {
   "cell_type": "code",
   "execution_count": 1,
   "metadata": {},
   "outputs": [],
   "source": [
    "import cv2"
   ]
  },
  {
   "cell_type": "code",
   "execution_count": 2,
   "metadata": {},
   "outputs": [],
   "source": [
    "cap = cv2.VideoCapture(1)"
   ]
  },
  {
   "cell_type": "code",
   "execution_count": 15,
   "metadata": {},
   "outputs": [],
   "source": [
    "while True:\n",
    "    status , photo = cap.read()\n",
    "    cphoto = photo[100:400 , 200:500]\n",
    "    rphoto = cv2.resize(cphoto, (100,100))\n",
    "    photo[0:100 , 0:100] = rphoto\n",
    "    grey_photo = cv2.cvtColor(photo , cv2.COLOR_BGR2GRAY)\n",
    "    cv2.imshow('hi' , grey_photo)\n",
    "    if cv2.waitKey(10) == 13:\n",
    "        break\n",
    "    \n",
    "    \n",
    "cv2.destroyAllWindows()"
   ]
  },
  {
   "cell_type": "code",
   "execution_count": 6,
   "metadata": {},
   "outputs": [
    {
     "data": {
      "text/plain": [
       "(480, 640, 3)"
      ]
     },
     "execution_count": 6,
     "metadata": {},
     "output_type": "execute_result"
    }
   ],
   "source": [
    "photo.shape"
   ]
  },
  {
   "cell_type": "code",
   "execution_count": 13,
   "metadata": {},
   "outputs": [
    {
     "data": {
      "text/plain": [
       "array([[[ 48,  39,  41],\n",
       "        [ 56,  39,  43],\n",
       "        [ 49,  38,  47],\n",
       "        ...,\n",
       "        [111, 126, 137],\n",
       "        [111, 125, 135],\n",
       "        [112, 126, 136]],\n",
       "\n",
       "       [[ 34,  18,  15],\n",
       "        [ 36,  18,  15],\n",
       "        [ 41,  19,  20],\n",
       "        ...,\n",
       "        [105, 122, 134],\n",
       "        [102, 122, 134],\n",
       "        [103, 124, 135]],\n",
       "\n",
       "       [[ 36,  16,  15],\n",
       "        [ 25,  19,  17],\n",
       "        [ 31,  17,  16],\n",
       "        ...,\n",
       "        [104, 121, 133],\n",
       "        [ 99, 121, 135],\n",
       "        [100, 122, 136]],\n",
       "\n",
       "       ...,\n",
       "\n",
       "       [[210, 133,  88],\n",
       "        [207, 130,  85],\n",
       "        [205, 126,  81],\n",
       "        ...,\n",
       "        [ 91,  97, 102],\n",
       "        [ 89,  95, 101],\n",
       "        [ 90,  96, 102]],\n",
       "\n",
       "       [[207, 132,  84],\n",
       "        [204, 127,  79],\n",
       "        [202, 124,  77],\n",
       "        ...,\n",
       "        [ 91,  98, 100],\n",
       "        [ 97, 101, 103],\n",
       "        [ 97, 101, 103]],\n",
       "\n",
       "       [[208, 129,  75],\n",
       "        [207, 128,  76],\n",
       "        [202, 122,  73],\n",
       "        ...,\n",
       "        [ 90,  98, 101],\n",
       "        [ 97, 101, 103],\n",
       "        [100, 104, 105]]], dtype=uint8)"
      ]
     },
     "execution_count": 13,
     "metadata": {},
     "output_type": "execute_result"
    }
   ],
   "source": [
    "photo"
   ]
  },
  {
   "cell_type": "code",
   "execution_count": null,
   "metadata": {},
   "outputs": [],
   "source": []
  },
  {
   "cell_type": "code",
   "execution_count": 8,
   "metadata": {},
   "outputs": [],
   "source": [
    "grey_photo = cv2.cvtColor(photo , cv2.COLOR_BGR2GRAY)"
   ]
  },
  {
   "cell_type": "code",
   "execution_count": null,
   "metadata": {},
   "outputs": [],
   "source": [
    "cap.release()"
   ]
  },
  {
   "cell_type": "code",
   "execution_count": null,
   "metadata": {},
   "outputs": [],
   "source": [
    "cv2.resize()"
   ]
  }
 ],
 "metadata": {
  "kernelspec": {
   "display_name": "Python 3",
   "language": "python",
   "name": "python3"
  },
  "language_info": {
   "codemirror_mode": {
    "name": "ipython",
    "version": 3
   },
   "file_extension": ".py",
   "mimetype": "text/x-python",
   "name": "python",
   "nbconvert_exporter": "python",
   "pygments_lexer": "ipython3",
   "version": "3.7.0"
  }
 },
 "nbformat": 4,
 "nbformat_minor": 2
}
